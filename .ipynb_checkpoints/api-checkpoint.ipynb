{
 "cells": [
  {
   "cell_type": "code",
   "execution_count": null,
   "id": "1049b650",
   "metadata": {},
   "outputs": [],
   "source": [
    "!pip install fastapi\n",
    "import fastapi\n",
    "from fastapi import FastAPI, Request\n",
    "from pydantic import BaseModel\n",
    "import pickle\n",
    "from utils import mask_pii, demask\n",
    "\n",
    "# Load model\n",
    "with open(\"model.pkl\", \"rb\") as f:\n",
    "    model = pickle.load(f)\n",
    "\n",
    "app = FastAPI()\n",
    "\n",
    "class EmailInput(BaseModel):\n",
    "    email_body: str\n",
    "\n",
    "@app.post(\"/classify\")\n",
    "def classify_email(payload: EmailInput):\n",
    "    email = payload.email_body\n",
    "    masked_email, entities = mask_pii(email)\n",
    "    category = model.predict([masked_email])[0]\n",
    "    return {\n",
    "        \"input_email_body\": email,\n",
    "        \"list_of_masked_entities\": entities,\n",
    "        \"masked_email\": masked_email,\n",
    "        \"category_of_the_email\": category\n",
    "    }\n"
   ]
  },
  {
   "cell_type": "code",
   "execution_count": null,
   "id": "c05baedf",
   "metadata": {},
   "outputs": [],
   "source": []
  },
  {
   "cell_type": "code",
   "execution_count": null,
   "id": "fa533bbb",
   "metadata": {},
   "outputs": [],
   "source": []
  }
 ],
 "metadata": {
  "kernelspec": {
   "display_name": "Python 3 (ipykernel)",
   "language": "python",
   "name": "python3"
  },
  "language_info": {
   "codemirror_mode": {
    "name": "ipython",
    "version": 3
   },
   "file_extension": ".py",
   "mimetype": "text/x-python",
   "name": "python",
   "nbconvert_exporter": "python",
   "pygments_lexer": "ipython3",
   "version": "3.9.12"
  }
 },
 "nbformat": 4,
 "nbformat_minor": 5
}
