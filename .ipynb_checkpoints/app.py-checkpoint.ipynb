{
 "cells": [
  {
   "cell_type": "code",
   "execution_count": null,
   "id": "2af9eb58",
   "metadata": {},
   "outputs": [],
   "source": [
    "!pip install fastapi\n",
    "from fastapi import FastAPI, HTTPException\n",
    "from pydantic import BaseModel\n",
    "from utils import mask_pii\n",
    "from models import classify_email\n",
    "\n",
    "app = FastAPI()\n",
    "\n",
    "class EmailRequest(BaseModel):\n",
    "    email_body: str\n",
    "\n",
    "@app.post(\"/predict\")\n",
    "def predict_email_category(payload: EmailRequest):\n",
    "    original_text = payload.email_body\n",
    "    masked_text, entities = mask_pii(original_text)\n",
    "    category = classify_email(masked_text)\n",
    "\n",
    "    return {\n",
    "        \"input_email_body\": original_text,\n",
    "        \"list_of_masked_entities\": entities,\n",
    "        \"masked_email\": masked_text,\n",
    "        \"category_of_the_email\": category\n",
    "    }\n"
   ]
  },
  {
   "cell_type": "code",
   "execution_count": null,
   "id": "e2055566",
   "metadata": {},
   "outputs": [],
   "source": []
  }
 ],
 "metadata": {
  "kernelspec": {
   "display_name": "Python 3 (ipykernel)",
   "language": "python",
   "name": "python3"
  },
  "language_info": {
   "codemirror_mode": {
    "name": "ipython",
    "version": 3
   },
   "file_extension": ".py",
   "mimetype": "text/x-python",
   "name": "python",
   "nbconvert_exporter": "python",
   "pygments_lexer": "ipython3",
   "version": "3.9.12"
  }
 },
 "nbformat": 4,
 "nbformat_minor": 5
}
