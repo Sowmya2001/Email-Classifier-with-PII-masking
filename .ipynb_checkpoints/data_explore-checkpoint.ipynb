{
 "cells": [
  {
   "cell_type": "code",
   "execution_count": 1,
   "id": "3c660cf4",
   "metadata": {},
   "outputs": [
    {
     "name": "stdout",
     "output_type": "stream",
     "text": [
      "                                               email      type\n",
      "0  Subject: Unvorhergesehener Absturz der Datenan...  Incident\n",
      "1  Subject: Customer Support Inquiry\\n\\nSeeking i...   Request\n",
      "2  Subject: Data Analytics for Investment\\n\\nI am...   Request\n",
      "3  Subject: Krankenhaus-Dienstleistung-Problem\\n\\...  Incident\n",
      "4  Subject: Security\\n\\nDear Customer Support, I ...   Request\n",
      "Incident    9586\n",
      "Request     6860\n",
      "Problem     5037\n",
      "Change      2517\n",
      "Name: type, dtype: int64\n"
     ]
    }
   ],
   "source": [
    "import pandas as pd\n",
    "\n",
    "df = pd.read_csv(\"emails.csv\")\n",
    "print(df.head())\n",
    "print(df['type'].value_counts())  # Explore label distribution\n"
   ]
  },
  {
   "cell_type": "code",
   "execution_count": null,
   "id": "cc760c97",
   "metadata": {},
   "outputs": [],
   "source": []
  }
 ],
 "metadata": {
  "kernelspec": {
   "display_name": "Python 3 (ipykernel)",
   "language": "python",
   "name": "python3"
  },
  "language_info": {
   "codemirror_mode": {
    "name": "ipython",
    "version": 3
   },
   "file_extension": ".py",
   "mimetype": "text/x-python",
   "name": "python",
   "nbconvert_exporter": "python",
   "pygments_lexer": "ipython3",
   "version": "3.9.12"
  }
 },
 "nbformat": 4,
 "nbformat_minor": 5
}
