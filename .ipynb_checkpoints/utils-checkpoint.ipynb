{
 "cells": [
  {
   "cell_type": "code",
   "execution_count": 2,
   "id": "55391108",
   "metadata": {},
   "outputs": [],
   "source": [
    "import re\n",
    "\n",
    "def get_position(text, substring):\n",
    "    start = text.find(substring)\n",
    "    return [start, start + len(substring)] if start != -1 else [-1, -1]\n",
    "\n",
    "def mask_pii(text):\n",
    "    entities = []\n",
    "\n",
    "    # Copy of text to find matches without modifying the original prematurely\n",
    "    temp_text = text\n",
    "\n",
    "    # --- 1. Full Name (Heuristic) ---\n",
    "    name_matches = re.findall(r'\\bMy name is ([A-Z][a-z]+\\s[A-Z][a-z]+)', temp_text)\n",
    "    for name in name_matches:\n",
    "        position = get_position(text, name)\n",
    "        if position[0] != -1:\n",
    "            entities.append({\"entity\": name, \"classification\": \"full_name\", \"position\": position})\n",
    "            text = text.replace(name, \"[full_name]\", 1)\n",
    "\n",
    "    # --- 2. Email ---\n",
    "    email_matches = re.findall(r'[\\w\\.-]+@[\\w\\.-]+', temp_text)\n",
    "    for email in email_matches:\n",
    "        position = get_position(text, email)\n",
    "        if position[0] != -1:\n",
    "            entities.append({\"entity\": email, \"classification\": \"email\", \"position\": position})\n",
    "            text = text.replace(email, \"[email]\", 1)\n",
    "\n",
    "    return text, entities\n",
    "\n"
   ]
  },
  {
   "cell_type": "code",
   "execution_count": null,
   "id": "53a8b05d",
   "metadata": {},
   "outputs": [],
   "source": []
  }
 ],
 "metadata": {
  "kernelspec": {
   "display_name": "Python 3 (ipykernel)",
   "language": "python",
   "name": "python3"
  },
  "language_info": {
   "codemirror_mode": {
    "name": "ipython",
    "version": 3
   },
   "file_extension": ".py",
   "mimetype": "text/x-python",
   "name": "python",
   "nbconvert_exporter": "python",
   "pygments_lexer": "ipython3",
   "version": "3.9.12"
  }
 },
 "nbformat": 4,
 "nbformat_minor": 5
}
